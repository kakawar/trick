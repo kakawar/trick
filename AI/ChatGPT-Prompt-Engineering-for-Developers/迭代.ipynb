{
 "cells": [
  {
   "cell_type": "code",
   "execution_count": 1,
   "id": "8c8daaf6-6ee2-431f-a1b2-7e068f280640",
   "metadata": {},
   "outputs": [],
   "source": [
    "import openai\n",
    "import os\n",
    "openai.api_key = os.getenv('OPENAI_API_KEY')\n",
    "def get_completion(prompt, model=\"gpt-3.5-turbo\"):\n",
    "    messages = [{\"role\": \"user\", \"content\": prompt}]\n",
    "    response = openai.ChatCompletion.create(\n",
    "        model=model,\n",
    "        messages=messages,\n",
    "        temperature=0, # this is the degree of randomness of the model's output\n",
    "    )\n",
    "    return response.choices[0].message[\"content\"]"
   ]
  },
  {
   "cell_type": "code",
   "execution_count": 2,
   "id": "a21b367d-8bf2-4b04-b610-754319c51ff2",
   "metadata": {},
   "outputs": [],
   "source": [
    "handleText = '''\n",
    "\n",
    "论文格式是投稿录用的必要条件，是论文写作必须遵循的编辑排版格式。遵照论文格式撰写论文，不仅提高论文发表的机会，更是论文交流以及文献组织的需要。\n",
    "\n",
    "一、论文格式必须包含如下六大要素：\n",
    "\n",
    "论文标题、论文作者署名及其单位、中文摘要及关键词、英文摘要及英文关键词、论文正文，最后是论文的参考文献。这是论文格式的六大要素，是任何论文都必须要包含的内容。\n",
    "\n",
    "此外，在不同学术领域，其论文还有其他一些内容，比如论文致谢、论文封面以及毕业论文要写明指导老师等。\n",
    "\n",
    "最后，不同的学术研究或者编辑出版机构，对论文格式也有自己的一些要求。\n",
    "\n",
    "二、论文内容必须按照论文格式要求进行编辑排版：\n",
    "\n",
    "论文除了要包含如上六大要素之外，还有按论文格式要求对论文内容进行编辑排版，比如纸张大小、标题居中、段落缩进、列表编号、字体字号等。在信息化时代，这个要求更为迫切。\n",
    "\n",
    "论文格式化之后，内容条例清晰，结构一目了然。\n",
    "\n",
    "随着网络化办公的发展，越来越多的学术和编辑机构已经不再要求纸质稿件，而是以word或者pdf格式的电子文档进行投稿和审稿了。同样随着自动化办公软件的发展，一些论文格式已经可以由办公软件一键完成了，相对来讲，论文格式要求反而被弱化了。事实正是这样，一些学术或者编辑出版机构对投稿者的论文格式要求不再繁冗而是精简了，只要具备论文六大要素，甚至有的只要按照一般的文章排版即可投稿了。\n",
    "'''"
   ]
  },
  {
   "cell_type": "code",
   "execution_count": 6,
   "id": "3147616d-74b7-436b-bc57-514d1741fb93",
   "metadata": {},
   "outputs": [
    {
     "name": "stdout",
     "output_type": "stream",
     "text": [
      "亲爱的同学们，写论文是一项非常重要的任务，需要我们认真对待。首先，我们要明确论文的主题和研究问题，然后进行文献综述，搜集相关资料。在写作过程中，要注意论点的逻辑性和连贯性，避免出现重复或矛盾的内容。同时，要注意语言表达的准确性和规范性，避免出现错别字或语法错误。最后，要认真检查论文的格式和参考文献的引用，确保论文的质量和完整性。希望同学们能够认真对待论文写作，取得优异的成绩。\n"
     ]
    }
   ],
   "source": [
    "prompt = '''\n",
    "你的任务是将一段用```包裹起来的话以老师的口吻描述给即将写论文的学生\n",
    "```{handleText}```\n",
    "'''\n",
    "\n",
    "print(get_completion(prompt))"
   ]
  },
  {
   "cell_type": "code",
   "execution_count": null,
   "id": "9b5dac10-44f9-4829-ab84-e72f334de381",
   "metadata": {},
   "outputs": [],
   "source": []
  }
 ],
 "metadata": {
  "kernelspec": {
   "display_name": "Python 3 (ipykernel)",
   "language": "python",
   "name": "python3"
  },
  "language_info": {
   "codemirror_mode": {
    "name": "ipython",
    "version": 3
   },
   "file_extension": ".py",
   "mimetype": "text/x-python",
   "name": "python",
   "nbconvert_exporter": "python",
   "pygments_lexer": "ipython3",
   "version": "3.9.10"
  }
 },
 "nbformat": 4,
 "nbformat_minor": 5
}
